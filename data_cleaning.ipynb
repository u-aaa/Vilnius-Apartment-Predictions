{
  "nbformat": 4,
  "nbformat_minor": 0,
  "metadata": {
    "colab": {
      "name": "data cleaning.ipynb",
      "provenance": []
    },
    "kernelspec": {
      "name": "python3",
      "display_name": "Python 3"
    },
    "language_info": {
      "name": "python"
    }
  },
  "cells": [
    {
      "cell_type": "code",
      "metadata": {
        "id": "qE05NA8by2Cj"
      },
      "source": [
        "import pandas as pd\n",
        "import numpy as np\n",
        "import re\n",
        "from sklearn.model_selection import train_test_split\n",
        "from sklearn.linear_model import LinearRegression \n",
        "import matplotlib.pyplot as plt\n",
        "from sklearn.pipeline import Pipeline, make_pipeline\n",
        "from sklearn.compose import ColumnTransformer, make_column_transformer\n",
        "from sklearn.impute import SimpleImputer\n",
        "from sklearn.preprocessing import OneHotEncoder\n",
        "import warnings\n",
        "import pickle\n",
        "warnings.filterwarnings(\"ignore\")"
      ],
      "execution_count": null,
      "outputs": []
    },
    {
      "cell_type": "markdown",
      "metadata": {
        "id": "Rnf_m7UJJ6ve"
      },
      "source": [
        " ## Data Cleaning"
      ]
    },
    {
      "cell_type": "code",
      "metadata": {
        "id": "3Uhn22isxOOl"
      },
      "source": [
        "gsheetkey = '1r4Q0OFPHCFGvd0lzbDQtQHaylc9NY1oSaVnWFzfwcUw'\n",
        "data_url = f'https://docs.google.com/spreadsheet/ccc?key={gsheetkey}&output=csv'\n",
        "data = pd.read_csv(data_url)"
      ],
      "execution_count": null,
      "outputs": []
    },
    {
      "cell_type": "code",
      "metadata": {
        "id": "WjAi3QmsOmS-",
        "colab": {
          "base_uri": "https://localhost:8080/",
          "height": 526
        },
        "outputId": "0302fcaf-a910-42f8-d1eb-c05c74ae2e54"
      },
      "source": [
        "data.head()"
      ],
      "execution_count": null,
      "outputs": [
        {
          "output_type": "execute_result",
          "data": {
            "text/html": [
              "<div>\n",
              "<style scoped>\n",
              "    .dataframe tbody tr th:only-of-type {\n",
              "        vertical-align: middle;\n",
              "    }\n",
              "\n",
              "    .dataframe tbody tr th {\n",
              "        vertical-align: top;\n",
              "    }\n",
              "\n",
              "    .dataframe thead th {\n",
              "        text-align: right;\n",
              "    }\n",
              "</style>\n",
              "<table border=\"1\" class=\"dataframe\">\n",
              "  <thead>\n",
              "    <tr style=\"text-align: right;\">\n",
              "      <th></th>\n",
              "      <th>city</th>\n",
              "      <th>division</th>\n",
              "      <th>description</th>\n",
              "      <th>link</th>\n",
              "      <th>House No.</th>\n",
              "      <th>Flat No.</th>\n",
              "      <th>Area</th>\n",
              "      <th>Price per month</th>\n",
              "      <th>Number of rooms</th>\n",
              "      <th>Floor</th>\n",
              "      <th>No. of floors</th>\n",
              "      <th>Build year</th>\n",
              "      <th>Building type</th>\n",
              "      <th>Heating system</th>\n",
              "      <th>energy_class</th>\n",
              "      <th>Nearest kindergarten</th>\n",
              "      <th>Nearest educational institution</th>\n",
              "      <th>Nearest shop</th>\n",
              "      <th>Public transport stop</th>\n",
              "    </tr>\n",
              "  </thead>\n",
              "  <tbody>\n",
              "    <tr>\n",
              "      <th>0</th>\n",
              "      <td>NaN</td>\n",
              "      <td>NaN</td>\n",
              "      <td>NaN</td>\n",
              "      <td>NaN</td>\n",
              "      <td>NaN</td>\n",
              "      <td>NaN</td>\n",
              "      <td>NaN</td>\n",
              "      <td>NaN</td>\n",
              "      <td>NaN</td>\n",
              "      <td>NaN</td>\n",
              "      <td>NaN</td>\n",
              "      <td>NaN</td>\n",
              "      <td>NaN</td>\n",
              "      <td>NaN</td>\n",
              "      <td>NaN</td>\n",
              "      <td>NaN</td>\n",
              "      <td>NaN</td>\n",
              "      <td>NaN</td>\n",
              "      <td>NaN</td>\n",
              "    </tr>\n",
              "    <tr>\n",
              "      <th>1</th>\n",
              "      <td>Vilnius</td>\n",
              "      <td>Žvėrynas</td>\n",
              "      <td>Vilnius, Žvėrynas, Lūšių g., 4 rooms flat for ...</td>\n",
              "      <td>https://en.aruodas.lt/butu-nuoma-vilniuje-zver...</td>\n",
              "      <td>25</td>\n",
              "      <td>19</td>\n",
              "      <td>90 m²</td>\n",
              "      <td>850€</td>\n",
              "      <td>4.0</td>\n",
              "      <td>3.0</td>\n",
              "      <td>4.0</td>\n",
              "      <td>2003</td>\n",
              "      <td>Brick</td>\n",
              "      <td>Gas</td>\n",
              "      <td>NaN</td>\n",
              "      <td>290 m</td>\n",
              "      <td>350 m</td>\n",
              "      <td>340 m</td>\n",
              "      <td>290 m</td>\n",
              "    </tr>\n",
              "    <tr>\n",
              "      <th>2</th>\n",
              "      <td>Vilnius</td>\n",
              "      <td>Naujamiestis</td>\n",
              "      <td>Vilnius, Naujamiestis, Savanorių pr., 2 rooms ...</td>\n",
              "      <td>https://en.aruodas.lt/butu-nuoma-vilniuje-nauj...</td>\n",
              "      <td>1</td>\n",
              "      <td>NaN</td>\n",
              "      <td>90 m²</td>\n",
              "      <td>1 000 €</td>\n",
              "      <td>2.0</td>\n",
              "      <td>8.0</td>\n",
              "      <td>27.0</td>\n",
              "      <td>2007</td>\n",
              "      <td>Monolithic</td>\n",
              "      <td>Central, central thermostat</td>\n",
              "      <td>1 Class Good (1-3)</td>\n",
              "      <td>240 m</td>\n",
              "      <td>180 m</td>\n",
              "      <td>460 m</td>\n",
              "      <td>80 m</td>\n",
              "    </tr>\n",
              "    <tr>\n",
              "      <th>3</th>\n",
              "      <td>Vilnius</td>\n",
              "      <td>Šnipiškės</td>\n",
              "      <td>Vilnius, Šnipiškės, Juozo Balčikonio g., 1 roo...</td>\n",
              "      <td>https://en.aruodas.lt/butu-nuoma-vilniuje-snip...</td>\n",
              "      <td>19</td>\n",
              "      <td>NaN</td>\n",
              "      <td>36 m²</td>\n",
              "      <td>530€</td>\n",
              "      <td>1.0</td>\n",
              "      <td>3.0</td>\n",
              "      <td>5.0</td>\n",
              "      <td>2020</td>\n",
              "      <td>Brick</td>\n",
              "      <td>Central thermostat</td>\n",
              "      <td>NaN</td>\n",
              "      <td>270 m</td>\n",
              "      <td>880 m</td>\n",
              "      <td>520 m</td>\n",
              "      <td>380 m</td>\n",
              "    </tr>\n",
              "    <tr>\n",
              "      <th>4</th>\n",
              "      <td>Vilnius</td>\n",
              "      <td>Šnipiškės</td>\n",
              "      <td>Vilnius, Šnipiškės, Juozo Balčikonio g., 1 roo...</td>\n",
              "      <td>https://en.aruodas.lt/butu-nuoma-vilniuje-snip...</td>\n",
              "      <td>19</td>\n",
              "      <td>NaN</td>\n",
              "      <td>24 m²</td>\n",
              "      <td>450€</td>\n",
              "      <td>1.0</td>\n",
              "      <td>3.0</td>\n",
              "      <td>5.0</td>\n",
              "      <td>2020</td>\n",
              "      <td>Brick</td>\n",
              "      <td>Central thermostat</td>\n",
              "      <td>NaN</td>\n",
              "      <td>270 m</td>\n",
              "      <td>880 m</td>\n",
              "      <td>520 m</td>\n",
              "      <td>380 m</td>\n",
              "    </tr>\n",
              "  </tbody>\n",
              "</table>\n",
              "</div>"
            ],
            "text/plain": [
              "      city      division  ... Nearest shop Public transport stop\n",
              "0      NaN           NaN  ...          NaN                   NaN\n",
              "1  Vilnius      Žvėrynas  ...        340 m                 290 m\n",
              "2  Vilnius  Naujamiestis  ...        460 m                  80 m\n",
              "3  Vilnius     Šnipiškės  ...        520 m                 380 m\n",
              "4  Vilnius     Šnipiškės  ...        520 m                 380 m\n",
              "\n",
              "[5 rows x 19 columns]"
            ]
          },
          "metadata": {},
          "execution_count": 5
        }
      ]
    },
    {
      "cell_type": "code",
      "metadata": {
        "colab": {
          "base_uri": "https://localhost:8080/"
        },
        "id": "BsvVmuNuOKFc",
        "outputId": "184e2275-9aa4-40a2-c5f4-669aa058231e"
      },
      "source": [
        "data.columns.values"
      ],
      "execution_count": null,
      "outputs": [
        {
          "output_type": "execute_result",
          "data": {
            "text/plain": [
              "array(['city', 'division', 'description', 'link', 'House No.', 'Flat No.',\n",
              "       'Area', 'Price per month', 'Number of rooms', 'Floor',\n",
              "       'No. of floors', 'Build year', 'Building type', 'Heating system',\n",
              "       'energy_class', 'Nearest kindergarten',\n",
              "       'Nearest educational institution', 'Nearest shop',\n",
              "       'Public transport stop'], dtype=object)"
            ]
          },
          "metadata": {},
          "execution_count": 4
        }
      ]
    },
    {
      "cell_type": "code",
      "metadata": {
        "id": "680RDsbozG_D"
      },
      "source": [
        "data.dropna(how='all', inplace=True)"
      ],
      "execution_count": null,
      "outputs": []
    },
    {
      "cell_type": "code",
      "metadata": {
        "id": "a8TwUN53__gl"
      },
      "source": [
        "data.dropna(subset=['Nearest kindergarten', 'Nearest educational institution', 'Nearest shop', 'Public transport stop'], inplace=True)"
      ],
      "execution_count": null,
      "outputs": []
    },
    {
      "cell_type": "code",
      "metadata": {
        "id": "fyhRC7eAz0HD"
      },
      "source": [
        "data['Area'] = data['Area'].apply(lambda x: x.replace(' m²', '').replace(',', '.') if not pd.isnull(x) else x)"
      ],
      "execution_count": null,
      "outputs": []
    },
    {
      "cell_type": "code",
      "metadata": {
        "id": "xddkeeEl0YnY"
      },
      "source": [
        "data[['Nearest kindergarten', 'Nearest educational institution', 'Nearest shop', 'Public transport stop']] = data[['Nearest kindergarten', 'Nearest educational institution', 'Nearest shop', 'Public transport stop']].applymap(lambda x: x.replace(' m', '').replace(' km', '').replace(',', '.') if not pd.isnull(x) else x)"
      ],
      "execution_count": null,
      "outputs": []
    },
    {
      "cell_type": "code",
      "metadata": {
        "id": "KSPbPVC787Ky"
      },
      "source": [
        "data['Price per month'] = data['Price per month'].apply(lambda x: x.replace('€', '').replace(' ', '') if not pd.isnull(x) else x)"
      ],
      "execution_count": null,
      "outputs": []
    },
    {
      "cell_type": "code",
      "metadata": {
        "id": "1OtWg5Q7I0VB"
      },
      "source": [
        "data['Build year'] = data['Build year'].apply(lambda x: (re.sub(\"[^0-9]\",\"\",str(x).split(\",\")[0])))"
      ],
      "execution_count": null,
      "outputs": []
    },
    {
      "cell_type": "code",
      "metadata": {
        "id": "QICmI_V98BZJ"
      },
      "source": [
        "# data['Build year'] = data['Build year'].apply(lambda x: re.sub('(\\d\\d\\d\\d [a-zA-Z,]+) ', repl= '', string=x) if not pd.isnull(x) else x)"
      ],
      "execution_count": null,
      "outputs": []
    },
    {
      "cell_type": "code",
      "metadata": {
        "id": "tS2YDP2yCM8I"
      },
      "source": [
        "# data['Build year'] = data['Build year'].apply(lambda x: re.sub('[a-zA-Z,]+', repl= '', string=x) if not pd.isnull(x) else x)"
      ],
      "execution_count": null,
      "outputs": []
    },
    {
      "cell_type": "code",
      "metadata": {
        "id": "L41fCV4Z0yY8"
      },
      "source": [
        "data['energy_class'] = data['energy_class'].apply(lambda x: x.split()[0] if not pd.isnull(x) else x)"
      ],
      "execution_count": null,
      "outputs": []
    },
    {
      "cell_type": "code",
      "metadata": {
        "id": "Q_vU9OA-6ZNF"
      },
      "source": [
        "data = data.astype({'Area': 'float', 'Nearest kindergarten': 'float', 'Nearest educational institution': 'float',\n",
        "                'Nearest shop': 'float', 'Public transport stop': 'float', 'Price per month': 'float', 'Build year': 'int', 'energy_class': 'float'})"
      ],
      "execution_count": null,
      "outputs": []
    },
    {
      "cell_type": "code",
      "metadata": {
        "colab": {
          "base_uri": "https://localhost:8080/"
        },
        "id": "aL5IF_hdUx27",
        "outputId": "d5cf70da-3576-45c3-fbb5-01c527123b79"
      },
      "source": [
        "data.columns"
      ],
      "execution_count": null,
      "outputs": [
        {
          "output_type": "execute_result",
          "data": {
            "text/plain": [
              "Index(['city', 'division', 'description', 'link', 'House No.', 'Flat No.',\n",
              "       'Area', 'Price per month', 'Number of rooms', 'Floor', 'No. of floors',\n",
              "       'Build year', 'Building type', 'Heating system', 'energy_class',\n",
              "       'Nearest kindergarten', 'Nearest educational institution',\n",
              "       'Nearest shop', 'Public transport stop'],\n",
              "      dtype='object')"
            ]
          },
          "metadata": {},
          "execution_count": 15
        }
      ]
    },
    {
      "cell_type": "code",
      "metadata": {
        "id": "CouQrpEyUkp4"
      },
      "source": [
        "data.rename(columns={'House No.': 'house_no', 'Flat No.': 'flat_no',\n",
        "       'Area': 'area', 'Price per month': 'price_per_month', 'Number of rooms': 'no_of_rooms', \n",
        "       'Floor': 'floor', 'No. of floors': 'no_of_floors', 'Build year': 'build_year', \n",
        "       'Building type': 'building_type', 'Heating system': 'heating_system',\n",
        "       'Nearest kindergarten': 'nearest_kindergarten', 'Nearest educational institution': 'nearest_educational_institution',\n",
        "       'Nearest shop': 'nearest_shop', 'Public transport stop': 'public_transport_stop'}, inplace=True)"
      ],
      "execution_count": null,
      "outputs": []
    },
    {
      "cell_type": "markdown",
      "metadata": {
        "id": "J0vKSbKe6kQD"
      },
      "source": [
        "##Data Preparation"
      ]
    },
    {
      "cell_type": "code",
      "metadata": {
        "id": "rnT6VYaa6oaT"
      },
      "source": [
        "model_data = data[['division', 'no_of_rooms', 'area','floor', 'no_of_floors', 'build_year', 'building_type', 'nearest_kindergarten', 'nearest_educational_institution',\n",
        "                   'nearest_shop', 'public_transport_stop']]"
      ],
      "execution_count": null,
      "outputs": []
    },
    {
      "cell_type": "code",
      "metadata": {
        "id": "weS-JUSkLYP7"
      },
      "source": [
        "num_attribs = model_data._get_numeric_data().columns.to_list()"
      ],
      "execution_count": null,
      "outputs": []
    },
    {
      "cell_type": "code",
      "metadata": {
        "id": "uk7a1i7vLoEf"
      },
      "source": [
        "cat_attribs = model_data.select_dtypes(include='O').columns.to_list()"
      ],
      "execution_count": null,
      "outputs": []
    },
    {
      "cell_type": "code",
      "metadata": {
        "id": "ZJ9SuZHgLcp3"
      },
      "source": [
        "num_pipeline = Pipeline(steps=[('imputer', SimpleImputer(strategy=\"median\"))])\n",
        "cat_pipeline = Pipeline(steps=[('imputer',SimpleImputer(strategy=\"most_frequent\")),('encoder',OneHotEncoder())])"
      ],
      "execution_count": null,
      "outputs": []
    },
    {
      "cell_type": "code",
      "metadata": {
        "id": "vnCJTlPMN5Yl"
      },
      "source": [
        "preprocess = ColumnTransformer(transformers=[(\"num\", num_pipeline, num_attribs), (\"cat\", cat_pipeline, cat_attribs)])"
      ],
      "execution_count": null,
      "outputs": []
    },
    {
      "cell_type": "code",
      "metadata": {
        "id": "n6XAqQWDPtyT"
      },
      "source": [
        "model = make_pipeline(preprocess, LinearRegression())"
      ],
      "execution_count": null,
      "outputs": []
    },
    {
      "cell_type": "code",
      "metadata": {
        "id": "R2cAszg7P4wo"
      },
      "source": [
        "x = model_data\n",
        "y = data['price_per_month']"
      ],
      "execution_count": null,
      "outputs": []
    },
    {
      "cell_type": "code",
      "metadata": {
        "id": "GI7H9pqpQIUp"
      },
      "source": [
        "X_train, X_test, y_train, y_test = train_test_split(x, y, test_size=0.1, random_state=2)"
      ],
      "execution_count": null,
      "outputs": []
    },
    {
      "cell_type": "code",
      "metadata": {
        "colab": {
          "base_uri": "https://localhost:8080/"
        },
        "id": "ZvONlIAJzQuK",
        "outputId": "fb24ad57-aa7b-4433-d198-8f7cb1334765"
      },
      "source": [
        "X_train.columns"
      ],
      "execution_count": null,
      "outputs": [
        {
          "output_type": "execute_result",
          "data": {
            "text/plain": [
              "Index(['division', 'no_of_rooms', 'area', 'floor', 'no_of_floors',\n",
              "       'build_year', 'building_type', 'nearest_kindergarten',\n",
              "       'nearest_educational_institution', 'nearest_shop',\n",
              "       'public_transport_stop'],\n",
              "      dtype='object')"
            ]
          },
          "metadata": {},
          "execution_count": 25
        }
      ]
    },
    {
      "cell_type": "code",
      "metadata": {
        "colab": {
          "base_uri": "https://localhost:8080/"
        },
        "id": "jAOH39uRQTsB",
        "outputId": "dd6c3c1a-09c4-4d28-c0ce-2a51e6438df9"
      },
      "source": [
        "model.fit(X_train,y_train)"
      ],
      "execution_count": null,
      "outputs": [
        {
          "output_type": "execute_result",
          "data": {
            "text/plain": [
              "Pipeline(steps=[('columntransformer',\n",
              "                 ColumnTransformer(transformers=[('num',\n",
              "                                                  Pipeline(steps=[('imputer',\n",
              "                                                                   SimpleImputer(strategy='median'))]),\n",
              "                                                  ['no_of_rooms', 'area',\n",
              "                                                   'floor', 'no_of_floors',\n",
              "                                                   'build_year',\n",
              "                                                   'nearest_kindergarten',\n",
              "                                                   'nearest_educational_institution',\n",
              "                                                   'nearest_shop',\n",
              "                                                   'public_transport_stop']),\n",
              "                                                 ('cat',\n",
              "                                                  Pipeline(steps=[('imputer',\n",
              "                                                                   SimpleImputer(strategy='most_frequent')),\n",
              "                                                                  ('encoder',\n",
              "                                                                   OneHotEncoder())]),\n",
              "                                                  ['division',\n",
              "                                                   'building_type'])])),\n",
              "                ('linearregression', LinearRegression())])"
            ]
          },
          "metadata": {},
          "execution_count": 26
        }
      ]
    },
    {
      "cell_type": "code",
      "metadata": {
        "colab": {
          "base_uri": "https://localhost:8080/"
        },
        "id": "mL9xWScKQdJb",
        "outputId": "32f04b0f-d031-4d1e-ed48-bc939be1f9ee"
      },
      "source": [
        "model.score(X_test, y_test)"
      ],
      "execution_count": null,
      "outputs": [
        {
          "output_type": "execute_result",
          "data": {
            "text/plain": [
              "0.8143224766178463"
            ]
          },
          "metadata": {},
          "execution_count": 27
        }
      ]
    },
    {
      "cell_type": "code",
      "metadata": {
        "colab": {
          "base_uri": "https://localhost:8080/"
        },
        "id": "KXxV4XW4SvB8",
        "outputId": "2d019e3a-2385-4be5-8597-4e7ae69f8947"
      },
      "source": [
        "model.predict(pd.DataFrame([{\n",
        "    \"division\": \"Šnipiškės\",\n",
        "    \"area\":  71.78,\n",
        "    \"no_of_rooms\":  2,\n",
        "    \"build_year\":  1940,\n",
        "    \"floor\":  1,\n",
        "    \"nearest_kindergarten\": 120,\n",
        "    \"nearest_educational_institution\": 310.0,\n",
        "    \"nearest_shop\": 170.0,\n",
        "    \"public_transport_stop\": 80.0,\n",
        "    \"building_type\": \"Brick\",\n",
        "    \"no_of_floors\": 3}]))"
      ],
      "execution_count": null,
      "outputs": [
        {
          "output_type": "execute_result",
          "data": {
            "text/plain": [
              "array([804.30882851])"
            ]
          },
          "metadata": {},
          "execution_count": 28
        }
      ]
    },
    {
      "cell_type": "code",
      "metadata": {
        "id": "ZJCTzvu1QZK_"
      },
      "source": [
        "with open(\"linear_regression.pkl\", \"wb\") as f:\n",
        "    pickle.dump(model, f)"
      ],
      "execution_count": null,
      "outputs": []
    }
  ]
}